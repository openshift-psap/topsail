{
	"cells": [
		{
			"cell_type": "code",
			"execution_count": null,
			"id": "5e542637-b5ac-4460-99a1-25031eae9a0d",
			"metadata": {},
			"outputs": [],
			"source": [
				"import os\n",
				"import time\n",
				"from datetime import datetime\n",
				"import json\n",
				"#TOKEN_FILE = \"/run/secrets/kubernetes.io/serviceaccount/token\" # not working in RHODS 1.25\n",
				"TOKEN_FILE = \"/mnt/secret_token/token\"\n",
				"with open(TOKEN_FILE) as f:\n",
				"  token = f.read().strip()\n",
				"route = os.environ[\"DSP_ROUTE\"]\n",
				"pipeline_name = os.environ[\"PIPELINE_NAME\"]\n",
				"run_count = int(os.environ[\"RUN_COUNT\"])\n",
				"run_delay = int(os.environ[\"RUN_DELAY\"])\n",
				"wait_for_run_completion = os.environ[\"WAIT_FOR_RUN_COMPLETION\"].lower() in [\"true\", \"True\"]"
			]
		},
		{
			"cell_type": "code",
			"execution_count": null,
			"id": "a4540a32-f1e5-44c4-9c61-fa51e1ee2130",
			"metadata": {},
			"outputs": [],
			"source": [
				"import os\n",
				"import kfp\n",
				"from pipeline import my_pipeline"
			]
		},
		{
			"cell_type": "code",
			"execution_count": null,
			"id": "a694095e-f78d-4022-aab9-14785cfba8e9",
			"metadata": {},
			"outputs": [],
			"source": [
				"cert=\"/run/secrets/kubernetes.io/serviceaccount/ca.crt\"\n",
				"ex = None\n",
				"for i in range(20):\n",
				"  try:\n",
				"    print(f'try #{i}')\n",
				"    client = kfp.Client(host=route, existing_token=token, ssl_ca_cert=cert)\n",
				"    print(f'try #{i} succeeded :)')\n",
				"    break\n",
				"  except Exception as e:\n",
				"    import time;time.sleep(5)\n",
				"    ex = e\n",
				"else:\n",
				"  raise Exception('Could not connect to Client the after multiple tries :/') from ex"
			]
		},
		{
			"cell_type": "code",
			"execution_count": null,
			"id": "5930c2f2-e9f1-4c82-8e38-baafc5f9e939",
			"metadata": {},
			"outputs": [],
			"source": [
				"from kfp.compiler import Compiler\n",
				"Compiler().compile(pipeline_func=my_pipeline, package_path=\"results/pipeline.yaml\")\n",
				"experiment = client.create_experiment(name=f\"experiment-{pipeline_name}\")\n",
				"uploaded_pipeline = client.upload_pipeline(pipeline_package_path=\"results/pipeline.yaml\", pipeline_name=pipeline_name)\n",
				"versions = client.list_pipeline_versions(uploaded_pipeline.pipeline_id).pipeline_versions"
			]
		},
		{
			"cell_type": "code",
			"execution_count": null,
			"id": "54be79f0-40c0-45f7-99f8-9c0dc29757a1",
			"metadata": {},
			"outputs": [],
			"source": [
				"run_submit_times = {}\n",
				"run_complete_times = {}\n",
				"for i in range(run_count):\n",
				"  run_name = f\"{pipeline_name}-run{i}\"\n",
				"  run_submit_times[run_name] = datetime.now().isoformat()\n",
				"  run_obj = client.run_pipeline(experiment.experiment_id, run_name, pipeline_id=uploaded_pipeline.pipeline_id, version_id=versions[0].pipeline_version_id, params={})\n",
				"  if wait_for_run_completion:\n",
				"    client.wait_for_run_completion(run_obj.run_id, 3600)\n",
				"    run_complete_times[run_name] = datetime.now().isoformat()\n",
				"  time.sleep(run_delay)\n",
				"with open(f\"results/{pipeline_name}_runs_submit.json\", \"w\") as f:\n",
				"  json.dump(run_submit_times, f)\n",
				"with open(f\"results/{pipeline_name}_runs_complete.json\", \"w\") as f:\n",
				"  json.dump(run_complete_times, f)"
			]
		}
	],
	"metadata": {
		"kernelspec": {
			"display_name": "Python 3.9.14",
			"language": "python",
			"name": "python3"
		},
		"language_info": {
			"codemirror_mode": {
				"name": "ipython",
				"version": 3
			},
			"file_extension": ".py",
			"mimetype": "text/x-python",
			"name": "python",
			"nbconvert_exporter": "python",
			"pygments_lexer": "ipython3",
			"version": "3.9.14"
		}
	},
	"nbformat": 4,
	"nbformat_minor": 5
}
